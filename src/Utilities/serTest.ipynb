{
 "cells": [
  {
   "cell_type": "code",
   "execution_count": 129,
   "metadata": {},
   "outputs": [],
   "source": [
    "from glob import glob\n",
    "import torch\n",
    "import torchvision\n",
    "import matplotlib.pyplot as plt\n",
    "import numpy as np\n",
    "from PIL import Image\n",
    "import cv2\n",
    "import struct\n",
    "import serial\n",
    "import math\n",
    "\n",
    "ser = None"
   ]
  },
  {
   "cell_type": "code",
   "execution_count": 122,
   "metadata": {},
   "outputs": [],
   "source": [
    "def image_processing():#函数功能，将任意形状的png图片转化为20x20的0-1灰度图片并将其边缘扩充，最终生成28x28的tensor矩阵\n",
    "    #  待处理图片路径\n",
    "    img_path = Image.open('C:/temp/num.png')\n",
    "    #  resize图片大小，入口参数为一个tuple，新的图片的大小\n",
    "    img_size = img_path.resize((20, 20))\n",
    "    #保存该图片\n",
    "    img_size.save('C:/temp/num.png', 'PNG')\n",
    "    #彩色形式打开\n",
    "    png_img = cv2.imread(r'C:/temp/num.png')\n",
    "    #  转化为灰度图像，此时仍未255表示形式\n",
    "    gray_img=cv2.cvtColor(png_img,cv2.COLOR_RGB2GRAY)\n",
    "    #  将255值转化为1值灰度图片\n",
    "    gray_img_01=np.zeros_like(gray_img, dtype=float)\n",
    "    for i in range(0,20):\n",
    "        for j in range(0,20):\n",
    "            gray_img_01[i][j]=(255.0-gray_img[i][j])/255.0\n",
    "            \n",
    "    #边缘黑色填充为28x28大小的图片\n",
    "    img=np.zeros((28,28),dtype=float)\n",
    "    for i in range(0,20):\n",
    "        for j in range(0,20):\n",
    "            img[i+4][j+4]=gray_img_01[i][j]\n",
    "    img=torch.tensor(img,dtype=float)\n",
    "    f=open(\"C:/temp/img.txt\",\"w\")\n",
    "    for i in range(0,28):\n",
    "        for j in range(0,28):\n",
    "            f.write(str(float(img[i][j]))+'\\n')\n",
    "    f.close()\n",
    "    return img\n",
    "\n",
    "def trans_img_to_string(img):\n",
    "    # print(img)\n",
    "    msg = []\n",
    "    for i in range(0,28):\n",
    "        for j in range(0,28):\n",
    "            tmp = struct.pack('!f',float(img[i][j]))\n",
    "            # print(tmp)\n",
    "            msg.append(tmp)\n",
    "    return msg\n",
    "\n",
    "def ser_init():\n",
    "    global ser\n",
    "    ser = serial.Serial(port=\"COM4\",baudrate=115200,bytesize=serial.EIGHTBITS,\n",
    "                        parity=serial.PARITY_NONE,stopbits=serial.STOPBITS_ONE,timeout=5,rtscts=False)\n",
    "    if ser.isOpen():\n",
    "        print(\"port COM4 open succeeded\")\n",
    "    else:\n",
    "        print(\"port COM4 open failed\")\n",
    "\n",
    "def ser_final():\n",
    "    global ser\n",
    "    print(\"port COM4 closed\")\n",
    "    ser.close()\n",
    "\n",
    "def print_hex(num):\n",
    "    print('32\\'h',end='')\n",
    "    for i in range(4):\n",
    "        print('%02x'%((struct.pack('!f',float(num)))[i]),end='')\n",
    "    print(';')"
   ]
  },
  {
   "cell_type": "code",
   "execution_count": 136,
   "metadata": {},
   "outputs": [],
   "source": [
    "display_list = [0,100,116,135,200, 208,300,350,400,450, 500,550,600,700,750]\n",
    "def ser_send():\n",
    "    global ser\n",
    "    send_len = 0\n",
    "    img = image_processing()\n",
    "    msg = trans_img_to_string(img)\n",
    "    for i in range(784):\n",
    "        send_len += ser.write(msg[i])\n",
    "        \n",
    "    read_msg = ser.read(40)\n",
    "\n",
    "    f=open(\"C:/temp/data.txt\",\"w\")\n",
    "    res = []\n",
    "    for i in range(10):\n",
    "        res.append((struct.unpack('!f',read_msg[i*4:(i+1)*4]))[0])\n",
    "\n",
    "    prob = []\n",
    "    sum=0.0\n",
    "    for i in range(10):\n",
    "        sum+=math.exp(res[i])\n",
    "    for i in range(10):\n",
    "        prob.append(math.exp(res[i])/sum)\n",
    "\n",
    "    for num in prob:\n",
    "        f.write(str(num)+'\\n')\n",
    "    f.close()"
   ]
  },
  {
   "cell_type": "code",
   "execution_count": 96,
   "metadata": {},
   "outputs": [
    {
     "name": "stdout",
     "output_type": "stream",
     "text": [
      "\t\t\tdisplaySel[0] ? 32'd120 :\n",
      "\t\t\tdisplaySel[1] ? 32'd520 :\n",
      "\t\t\tdisplaySel[2] ? 32'd584 :\n",
      "\t\t\tdisplaySel[3] ? 32'd660 :\n",
      "\t\t\tdisplaySel[4] ? 32'd920 :\n",
      "\t\t\tdisplaySel[5] ? 32'd952 :\n",
      "\t\t\tdisplaySel[6] ? 32'd1320 :\n",
      "\t\t\tdisplaySel[7] ? 32'd1520 :\n",
      "\t\t\tdisplaySel[8] ? 32'd1720 :\n",
      "\t\t\tdisplaySel[9] ? 32'd1920 :\n",
      "\t\t\tdisplaySel[10] ? 32'd2120 :\n",
      "\t\t\tdisplaySel[11] ? 32'd2320 :\n",
      "\t\t\tdisplaySel[12] ? 32'd2520 :\n",
      "\t\t\tdisplaySel[13] ? 32'd2920 :\n",
      "\t\t\tdisplaySel[14] ? 32'd3120 :\n"
     ]
    }
   ],
   "source": [
    "for i,num in enumerate(display_list):\n",
    "    print('\\t\\t\\tdisplaySel[',i,']',' ? 32\\'d',(num+30)*4,' :',sep='')"
   ]
  },
  {
   "cell_type": "code",
   "execution_count": 60,
   "metadata": {},
   "outputs": [
    {
     "name": "stdout",
     "output_type": "stream",
     "text": [
      "3.840164494372165e+24\n",
      "-0.17544589936733246\n",
      "3.840164494372165e+24\n",
      "32'h684b4bef;\n"
     ]
    }
   ],
   "source": [
    "b1 = b'\\x68\\x4b\\x4b\\xef'\n",
    "b2 = b'\\xbe\\x33\\xa8\\x17'\n",
    "n1 = struct.unpack('!f',b1)[0]\n",
    "n2 = struct.unpack('!f',b2)[0]\n",
    "print(n1)\n",
    "print(n2)\n",
    "print(n1+n2)\n",
    "print_hex(n1+n2)"
   ]
  },
  {
   "cell_type": "code",
   "execution_count": 73,
   "metadata": {},
   "outputs": [
    {
     "name": "stdout",
     "output_type": "stream",
     "text": [
      "#5\n",
      "n1=32'h3bace7e6;\n",
      "n2=32'hbffe9a26;\n",
      "#5\n",
      "n1=32'hbc8b493f;\n",
      "n2=32'hba87f46b;\n",
      "#5\n",
      "n1=32'hbc8234e6;\n",
      "n2=32'h3bfe9f19;\n",
      "#5\n",
      "n1=32'h3c0f9821;\n",
      "n2=32'hbf21257c;\n",
      "#5\n",
      "n1=32'h3ff89dda;\n",
      "n2=32'hbec6438e;\n",
      "32'hbc2bf633;\n",
      "32'h3793f139;\n",
      "32'hb9018168;\n",
      "32'hbbb4c767;\n",
      "32'hbf408bb2;\n"
     ]
    }
   ],
   "source": [
    "n1 = [0.0052766679,-0.0170026999,-0.0158943646,0.0087642977,1.9423172474]\n",
    "n2 = [-1.9890792370,-0.0010372525,0.0077704308,-0.6294782162,-0.3872341514]\n",
    "result = [0,0,0,0,0]\n",
    "for i in range(len(n1)):\n",
    "    print('#5')\n",
    "    print('n1=',end='')\n",
    "    print_hex(n1[i])\n",
    "    print('n2=',end='')\n",
    "    print_hex(n2[i])\n",
    "for i in range(len(n1)):\n",
    "    result[i]=n1[i]*n2[i]\n",
    "    print_hex(result[i])\n"
   ]
  },
  {
   "cell_type": "code",
   "execution_count": 132,
   "metadata": {},
   "outputs": [
    {
     "name": "stdout",
     "output_type": "stream",
     "text": [
      "port COM4 open succeeded\n"
     ]
    }
   ],
   "source": [
    "ser_init()"
   ]
  },
  {
   "cell_type": "code",
   "execution_count": 137,
   "metadata": {},
   "outputs": [
    {
     "name": "stdout",
     "output_type": "stream",
     "text": [
      "[-1.8425252437591553, 1.9275861978530884, -0.8280611038208008, 3.8190860748291016, -1.4746131896972656, 1.661027431488037, 0.5360004901885986, -0.8458044528961182, -0.17075121402740479, -2.9481570720672607]\n",
      "0.002573449581152067\n",
      "0.11164885131689697\n",
      "0.00709727841201735\n",
      "0.740154217830689\n",
      "0.0037179011513452185\n",
      "0.0855242467636548\n",
      "0.027764909697962387\n",
      "0.006972459550654973\n",
      "0.013694869561057012\n",
      "0.0008518161345702092\n"
     ]
    }
   ],
   "source": [
    "ser_send()"
   ]
  },
  {
   "cell_type": "code",
   "execution_count": 120,
   "metadata": {},
   "outputs": [
    {
     "name": "stdout",
     "output_type": "stream",
     "text": [
      "port COM4 closed\n"
     ]
    }
   ],
   "source": [
    "ser_final()"
   ]
  }
 ],
 "metadata": {
  "kernelspec": {
   "display_name": "Python 3.10.0 64-bit",
   "language": "python",
   "name": "python3"
  },
  "language_info": {
   "codemirror_mode": {
    "name": "ipython",
    "version": 3
   },
   "file_extension": ".py",
   "mimetype": "text/x-python",
   "name": "python",
   "nbconvert_exporter": "python",
   "pygments_lexer": "ipython3",
   "version": "3.10.0"
  },
  "orig_nbformat": 4,
  "vscode": {
   "interpreter": {
    "hash": "92e079533d855501d5ad41abbe2bd73e5c971f8bd8db38281079a94a156dfaf7"
   }
  }
 },
 "nbformat": 4,
 "nbformat_minor": 2
}
